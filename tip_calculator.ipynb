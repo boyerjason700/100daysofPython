{
 "cells": [
  {
   "cell_type": "code",
   "execution_count": 1,
   "id": "d04129a6",
   "metadata": {},
   "outputs": [
    {
     "name": "stdout",
     "output_type": "stream",
     "text": [
      "Welcome to the tip calculator!\n",
      "What was the total bill? $150\n",
      "How much tip would you like to give? 10, 12, or 15?12\n",
      "How many people to split the bill? 5\n",
      "Each person should pay: $33.60\n"
     ]
    }
   ],
   "source": [
    "#If the bill was $150.00, split between 5 people, with 12% tip. \n",
    "#Each person should pay (150.00 / 5) * 1.12 = 33.6\n",
    "#Format the result to 2 decimal places = 33.60\n",
    "#Tip: There are 2 ways to round a number. You might have to do some Googling to solve this.💪\n",
    "\n",
    "#Write your code below this line 👇\n",
    "print(\"Welcome to the tip calculator!\")\n",
    "bill = float(input(\"What was the total bill? $\"))\n",
    "tip = int(input(\"How much tip would you like to give? 10, 12, or 15?\"))\n",
    "people = int(input(\"How many people to split the bill? \"))\n",
    "bill_with_tip = tip / 100 * bill + bill\n",
    "bill_per_person = bill_with_tip / people\n",
    "# final_amount = round(bill_per_person, 2)\n",
    "final_amount = \"{:.2f}\".format(bill_per_person)\n",
    "print(f\"Each person should pay: ${final_amount}\")"
   ]
  },
  {
   "cell_type": "code",
   "execution_count": null,
   "id": "259e3283",
   "metadata": {},
   "outputs": [],
   "source": []
  }
 ],
 "metadata": {
  "kernelspec": {
   "display_name": "PythonML",
   "language": "python",
   "name": "pythonml"
  },
  "language_info": {
   "codemirror_mode": {
    "name": "ipython",
    "version": 3
   },
   "file_extension": ".py",
   "mimetype": "text/x-python",
   "name": "python",
   "nbconvert_exporter": "python",
   "pygments_lexer": "ipython3",
   "version": "3.7.11"
  }
 },
 "nbformat": 4,
 "nbformat_minor": 5
}
