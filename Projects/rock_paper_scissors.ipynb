{
 "cells": [
  {
   "cell_type": "code",
   "execution_count": 2,
   "id": "e47dc84c",
   "metadata": {},
   "outputs": [
    {
     "name": "stdout",
     "output_type": "stream",
     "text": [
      "What do you choose? Type 0 for Rock, 1 for Paper or 2 for Scissors.\n",
      "3\n",
      "You picked an invalid number, you lose!\n"
     ]
    }
   ],
   "source": [
    "rock = '''\n",
    "    _______\n",
    "---'   ____)\n",
    "      (_____)\n",
    "      (_____)\n",
    "      (____)\n",
    "---.__(___)\n",
    "'''\n",
    "\n",
    "paper = '''\n",
    "    _______\n",
    "---'   ____)____\n",
    "          ______)\n",
    "          _______)\n",
    "         _______)\n",
    "---.__________)\n",
    "'''\n",
    "\n",
    "scissors = '''\n",
    "    _______\n",
    "---'   ____)____\n",
    "          ______)\n",
    "       __________)\n",
    "      (____)\n",
    "---.__(___)\n",
    "'''\n",
    "\n",
    "#Write your code below this line 👇\n",
    "import random\n",
    "rps = [rock, paper, scissors]\n",
    "choice = int(input(\"What do you choose? Type 0 for Rock, 1 for Paper or 2 for Scissors.\\n\"))\n",
    "if choice <= 2:\n",
    "    hchoice = rps[choice]\n",
    "    rchoice = random.randint(0, 2)\n",
    "    cchoice = rps[rchoice]\n",
    "    print(\"Your choice\")\n",
    "    print(hchoice)\n",
    "    print(\"Computers choice\")\n",
    "    print (cchoice)\n",
    "\n",
    "    if hchoice == (rock) and cchoice == (paper):\n",
    "      print(\"You Loose\")\n",
    "    elif hchoice == (rock) and cchoice == (scissors):\n",
    "      print(\"You Win\")\n",
    "    elif hchoice == (paper) and cchoice == (rock):\n",
    "      print(\"You Win\")\n",
    "    elif hchoice == (paper) and cchoice == (scissors):\n",
    "      print(\"You Loose\")\n",
    "    elif hchoice == (scissors) and cchoice == (rock):\n",
    "      print(\"You Loose\")\n",
    "    elif hchoice == (scissors) and cchoice == (paper):\n",
    "      print(\"You Win\")\n",
    "    else:\n",
    "      print(\"Draw\")\n",
    "else:\n",
    "    print(\"You picked an invalid number, you lose!\")"
   ]
  },
  {
   "cell_type": "code",
   "execution_count": null,
   "id": "94576d43",
   "metadata": {},
   "outputs": [],
   "source": []
  },
  {
   "cell_type": "code",
   "execution_count": null,
   "id": "ac580be0",
   "metadata": {},
   "outputs": [],
   "source": []
  }
 ],
 "metadata": {
  "kernelspec": {
   "display_name": "PythonML",
   "language": "python",
   "name": "pythonml"
  },
  "language_info": {
   "codemirror_mode": {
    "name": "ipython",
    "version": 3
   },
   "file_extension": ".py",
   "mimetype": "text/x-python",
   "name": "python",
   "nbconvert_exporter": "python",
   "pygments_lexer": "ipython3",
   "version": "3.7.11"
  }
 },
 "nbformat": 4,
 "nbformat_minor": 5
}
