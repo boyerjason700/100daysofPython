{
 "cells": [
  {
   "cell_type": "code",
   "execution_count": null,
   "id": "72de95a6",
   "metadata": {},
   "outputs": [
    {
     "name": "stdout",
     "output_type": "stream",
     "text": [
      "Welcome to Band Name Generator\n"
     ]
    }
   ],
   "source": [
    "#1. Create a greeting for your program.\n",
    "print(\"Welcome to Band Name Generator\")\n",
    "#2. Ask the user for the city that they grew up in.\n",
    "city = input(\"What is the name of the city you grew up in?\\n\")\n",
    "#3. Ask the user for the name of a pet.\n",
    "pet = input(\"What is the name of your pet?\\n\")\n",
    "#4. Combine the name of their city and pet and show them their band name.\n",
    "print(\"Your new bands name is : \" + city + \" \" + pet)\n",
    "#5. Make sure the input cursor shows on a new line, see the example at:\n",
    "#   https://replit.com/@appbrewery/band-name-generator-end"
   ]
  },
  {
   "cell_type": "code",
   "execution_count": null,
   "id": "ee845a3e",
   "metadata": {},
   "outputs": [],
   "source": []
  }
 ],
 "metadata": {
  "kernelspec": {
   "display_name": "PythonML",
   "language": "python",
   "name": "pythonml"
  },
  "language_info": {
   "codemirror_mode": {
    "name": "ipython",
    "version": 3
   },
   "file_extension": ".py",
   "mimetype": "text/x-python",
   "name": "python",
   "nbconvert_exporter": "python",
   "pygments_lexer": "ipython3",
   "version": "3.7.11"
  }
 },
 "nbformat": 4,
 "nbformat_minor": 5
}
